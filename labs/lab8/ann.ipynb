{
 "cells": [
  {
   "cell_type": "code",
   "execution_count": 2,
   "metadata": {},
   "outputs": [],
   "source": [
    "import numpy as np\n",
    "import matplotlib.pyplot as plt\n",
    "\n",
    "from data.data import Data"
   ]
  },
  {
   "cell_type": "code",
   "execution_count": 3,
   "metadata": {},
   "outputs": [],
   "source": [
    "def f_linear(x, derivative=False):\n",
    "    return 1 if derivative else x\n",
    "\n",
    "\n",
    "def sigmoid(x, derivative=False):\n",
    "    d_f = x * (1.0 - x)\n",
    "    f = 1.0 / (np.math.e ** (- x))\n",
    "    return d_f if derivative else f"
   ]
  },
  {
   "cell_type": "code",
   "execution_count": 4,
   "metadata": {},
   "outputs": [
    {
     "name": "stdout",
     "output_type": "stream",
     "text": [
      "[[  47.88    8.39   49.29    6.31  -37.27  304.84]\n",
      " [  11.42  -46.21   -5.55  -15.94   25.05 -168.82]\n",
      " [  17.83    9.05   24.55  -42.49   37.12  196.37]\n",
      " ...\n",
      " [  41.55  -21.97  -14.61   -7.11    7.97  -39.36]\n",
      " [ -44.41   48.96   34.83  -28.71   -8.47  280.4 ]\n",
      " [  40.06   30.68  -35.01   -3.43   26.07   81.6 ]]\n",
      "\n",
      "[[0.98339205 0.58473558 0.9947854  0.56412574 0.12708896 0.79978142]\n",
      " [0.61640664 0.03786058 0.44484557 0.34066486 0.75072551 0.28724003]\n",
      " [0.68092602 0.59134615 0.74669073 0.07401828 0.87151006 0.68240743]\n",
      " ...\n",
      " [0.91967791 0.28064904 0.35399118 0.42934619 0.57980586 0.42732703]\n",
      " [0.05445395 0.99108574 0.84977938 0.21241338 0.4152907  0.77333521]\n",
      " [0.90468042 0.80799279 0.14941837 0.46630511 0.76093265 0.55821629]]\n"
     ]
    }
   ],
   "source": [
    "def min_max_norm(data):\n",
    "    d = []\n",
    "    for col in data.T:\n",
    "        mini, maxi = min(col), max(col)\n",
    "        d.append((col - mini) / (maxi - mini))\n",
    "    return np.array(d).T\n",
    "\n",
    "d = np.array(Data().data)\n",
    "print(d)\n",
    "norm_d = min_max_norm(d)\n",
    "print()\n",
    "print(norm_d)"
   ]
  },
  {
   "cell_type": "code",
   "execution_count": 5,
   "metadata": {},
   "outputs": [
    {
     "name": "stdout",
     "output_type": "stream",
     "text": [
      "hidden: 3\n",
      "inputs:(497, 5)\n",
      "\n",
      "outputs:(497, 1)\n",
      "\n",
      "weights_1:(5, 3)\n",
      "\n",
      "weights_2:(3, 1)\n",
      "\n"
     ]
    }
   ],
   "source": [
    "class ANN:\n",
    "    def __init__(self, data=Data(), input_columns=[0, 1, 2, 3, 4], output_columns=[5], hidden_size=3, activation=f_linear, alpha=0.001):\n",
    "        \n",
    "        # the activation function\n",
    "        self.__activation = activation\n",
    "        \n",
    "        self.__alpha = alpha\n",
    "        \n",
    "        self.__input_size = len(input_columns)\n",
    "        self.__hidden_size = hidden_size\n",
    "        self.__output_size = len(output_columns)\n",
    "        \n",
    "        print(f'hidden: {self.__hidden_size}')\n",
    "        \n",
    "        # data\n",
    "        self.__data = min_max_norm(np.array(data.data))\n",
    "        # inputs\n",
    "        self.__inputs = self.__data[:, input_columns]\n",
    "        print(f'inputs:{self.__inputs.shape}\\n')\n",
    "        # outputs\n",
    "        self.__outputs = self.__data[:, output_columns]\n",
    "        print(f'outputs:{self.__outputs.shape}\\n')\n",
    "        \n",
    "        #weights\n",
    "        self.__weights_1 = np.random.rand(self.__input_size, self. __hidden_size)\n",
    "        self.__weights_2 = np.random.rand(self. __hidden_size, self.__output_size)\n",
    "        print(f'weights_1:{self.__weights_1.shape}\\n')\n",
    "        print(f'weights_2:{self.__weights_2.shape}\\n')\n",
    "        \n",
    "        self.loss = []\n",
    "        \n",
    "    def feed_forward(self):\n",
    "        # print('feed forward')\n",
    "        self.__hidden_layer = self.__activation(np.dot(self.__inputs, self.__weights_1))\n",
    "        # assert (497, 3) == self.__hidden_layer.shape\n",
    "        self.__output_layer = self.__activation(np.dot(self.__hidden_layer, self.__weights_2))\n",
    "        # assert (497, 1) == self.__output_layer.shape\n",
    "        \n",
    "    def back_propagation(self):\n",
    "        # print('back propagation')\n",
    "        # for weights 2\n",
    "        z_3_diff = self.__activation(np.dot(self.__hidden_layer, self.__weights_2), derivative=True)\n",
    "        error = (self.__output_layer - self.__outputs) * z_3_diff\n",
    "        d_w_2 = np.dot(self.__hidden_layer.T, error)\n",
    "        # for weights 1\n",
    "        z_1_diff = self.__activation(np.dot(self.__inputs, self.__weights_1), derivative=True)\n",
    "        b = np.dot(error, self.__weights_2.T) * z_1_diff\n",
    "        d_w_1 = np.dot(self.__inputs.T, b)\n",
    "        # update\n",
    "        self.__weights_1 -= self.__alpha * d_w_1\n",
    "        self.__weights_2 -= self.__alpha * d_w_2\n",
    "        # add the error\n",
    "        self.loss.append(sum(abs(self.__output_layer - self.__outputs)))\n",
    "        \n",
    "        \n",
    "ann_1 = ANN()"
   ]
  },
  {
   "cell_type": "code",
   "execution_count": 6,
   "metadata": {},
   "outputs": [
    {
     "name": "stdout",
     "output_type": "stream",
     "text": [
      "hidden: 4\n",
      "inputs:(497, 5)\n",
      "\n",
      "outputs:(497, 1)\n",
      "\n",
      "weights_1:(5, 4)\n",
      "\n",
      "weights_2:(4, 1)\n",
      "\n",
      "[15.63880284]\n"
     ]
    },
    {
     "data": {
      "image/png": "[encoded data removed]",
      "text/plain": [
       "<Figure size 432x288 with 1 Axes>"
      ]
     },
     "metadata": {
      "needs_background": "light"
     },
     "output_type": "display_data"
    }
   ],
   "source": [
    "ann_2 = ANN(alpha=0.0001, hidden_size=4)\n",
    "N = 1000\n",
    "iterations = []\n",
    "for i in range(N):\n",
    "    ann_2.feed_forward()\n",
    "    ann_2.back_propagation()\n",
    "    iterations.append(i)\n",
    "    \n",
    "print(ann_2.loss[-1])\n",
    "plt.plot(iterations, ann_2.loss, label='loss value vs iteration')\n",
    "plt.xlabel('Iterations')\n",
    "plt.ylabel('error')\n",
    "plt.legend()\n",
    "plt.show()"
   ]
  },
  {
   "cell_type": "code",
   "execution_count": null,
   "metadata": {},
   "outputs": [],
   "source": []
  }
 ],
 "metadata": {
  "kernelspec": {
   "display_name": "Python 3",
   "language": "python",
   "name": "python3"
  },
  "language_info": {
   "codemirror_mode": {
    "name": "ipython",
    "version": 3
   },
   "file_extension": ".py",
   "mimetype": "text/x-python",
   "name": "python",
   "nbconvert_exporter": "python",
   "pygments_lexer": "ipython3",
   "version": "3.8.2"
  }
 },
 "nbformat": 4,
 "nbformat_minor": 1
}
